{
 "cells": [
  {
   "cell_type": "markdown",
   "metadata": {},
   "source": [
    "# Análise das Etapas de Treinamento de um Algoritmo"
   ]
  },
  {
   "cell_type": "markdown",
   "metadata": {},
   "source": [
    "## 1.0 Importando bibliotecas"
   ]
  },
  {
   "cell_type": "code",
   "execution_count": 1,
   "metadata": {},
   "outputs": [],
   "source": [
    "import pandas as pd\n",
    "import numpy as np\n",
    "from sklearn import datasets as ds\n",
    "from sklearn import model_selection as ms\n",
    "from sklearn import tree as tr\n",
    "from sklearn import metrics as mt\n",
    "\n",
    "from matplotlib import pyplot as plt"
   ]
  },
  {
   "cell_type": "markdown",
   "metadata": {},
   "source": [
    "## 2.0 Gerando Dados sintéticos"
   ]
  },
  {
   "cell_type": "code",
   "execution_count": 2,
   "metadata": {},
   "outputs": [],
   "source": [
    "n_samples = 20000\n",
    "n_features = 2\n",
    "n_informative = 2\n",
    "n_redundant = 0\n",
    "random_state = 0\n",
    "\n",
    "X, y = ds.make_classification( n_samples=n_samples,\n",
    "                        n_features=n_features,\n",
    "                        n_informative=n_informative,\n",
    "                        n_redundant=n_redundant,\n",
    "                        random_state=random_state )"
   ]
  },
  {
   "cell_type": "code",
   "execution_count": 3,
   "metadata": {},
   "outputs": [
    {
     "data": {
      "text/html": [
       "<div>\n",
       "<style scoped>\n",
       "    .dataframe tbody tr th:only-of-type {\n",
       "        vertical-align: middle;\n",
       "    }\n",
       "\n",
       "    .dataframe tbody tr th {\n",
       "        vertical-align: top;\n",
       "    }\n",
       "\n",
       "    .dataframe thead th {\n",
       "        text-align: right;\n",
       "    }\n",
       "</style>\n",
       "<table border=\"1\" class=\"dataframe\">\n",
       "  <thead>\n",
       "    <tr style=\"text-align: right;\">\n",
       "      <th></th>\n",
       "      <th>0</th>\n",
       "      <th>1</th>\n",
       "    </tr>\n",
       "  </thead>\n",
       "  <tbody>\n",
       "    <tr>\n",
       "      <th>0</th>\n",
       "      <td>2.022874</td>\n",
       "      <td>0.285346</td>\n",
       "    </tr>\n",
       "    <tr>\n",
       "      <th>1</th>\n",
       "      <td>0.549895</td>\n",
       "      <td>0.701021</td>\n",
       "    </tr>\n",
       "    <tr>\n",
       "      <th>2</th>\n",
       "      <td>-0.659376</td>\n",
       "      <td>0.116066</td>\n",
       "    </tr>\n",
       "    <tr>\n",
       "      <th>3</th>\n",
       "      <td>0.967521</td>\n",
       "      <td>-1.060414</td>\n",
       "    </tr>\n",
       "    <tr>\n",
       "      <th>4</th>\n",
       "      <td>-1.796434</td>\n",
       "      <td>-2.093534</td>\n",
       "    </tr>\n",
       "  </tbody>\n",
       "</table>\n",
       "</div>"
      ],
      "text/plain": [
       "          0         1\n",
       "0  2.022874  0.285346\n",
       "1  0.549895  0.701021\n",
       "2 -0.659376  0.116066\n",
       "3  0.967521 -1.060414\n",
       "4 -1.796434 -2.093534"
      ]
     },
     "execution_count": 3,
     "metadata": {},
     "output_type": "execute_result"
    }
   ],
   "source": [
    "df = pd.DataFrame(X)\n",
    "\n",
    "df.head()"
   ]
  },
  {
   "cell_type": "code",
   "execution_count": 4,
   "metadata": {},
   "outputs": [],
   "source": [
    "# dataset de produção\n",
    "X, X_prod, y, y_prod = ms.train_test_split( X, y, test_size=0.2, random_state=random_state)"
   ]
  },
  {
   "cell_type": "markdown",
   "metadata": {},
   "source": [
    "## 3.0 Exemplo 1 - Não há separação dos dados"
   ]
  },
  {
   "cell_type": "markdown",
   "metadata": {},
   "source": [
    "### 3.1 Treinamento e avaliação da performance"
   ]
  },
  {
   "cell_type": "code",
   "execution_count": 5,
   "metadata": {},
   "outputs": [
    {
     "name": "stdout",
     "output_type": "stream",
     "text": [
      "Acurácia sobre treino: 1.0\n"
     ]
    }
   ],
   "source": [
    "# define o modelo\n",
    "model = tr.DecisionTreeClassifier(max_depth=38)\n",
    "model.fit(X, y)\n",
    "\n",
    "# classificação sobre os dados de treinamento\n",
    "yhat = model.predict(X)\n",
    "\n",
    "acc = mt.accuracy_score(y, yhat)\n",
    "\n",
    "print(f\"Acurácia sobre treino: {acc}\")"
   ]
  },
  {
   "cell_type": "markdown",
   "metadata": {},
   "source": [
    "### 3.2 Publicação do modelo em produção"
   ]
  },
  {
   "cell_type": "markdown",
   "metadata": {},
   "source": [
    "Ao treinar um algoritmo com 100% dos dados, e utilizar este mesmo dataset para teste, o modelo pode se ajustar aos dados treinados. Assim, podemos obter um desempenho impressionante, porém, menos eficaz com os dados em produção. Isto é chamado de 'overfitting'.\n",
    "\n",
    "Neste momento, o modelo vai apresentar acurácia inferior, pois o dataset de produção é diferente do dataset de treino."
   ]
  },
  {
   "cell_type": "code",
   "execution_count": 6,
   "metadata": {},
   "outputs": [
    {
     "name": "stdout",
     "output_type": "stream",
     "text": [
      "Acurácia sobre produção: 0.8535\n"
     ]
    }
   ],
   "source": [
    "yhat_prod = model.predict(X_prod)\n",
    "acc_prod = mt.accuracy_score(y_prod, yhat_prod)\n",
    "\n",
    "print(f\"Acurácia sobre produção: {acc_prod}\")"
   ]
  },
  {
   "cell_type": "markdown",
   "metadata": {},
   "source": [
    "## 4.0 Exemplo 2 - Estratégia de Treino-Teste"
   ]
  },
  {
   "cell_type": "markdown",
   "metadata": {},
   "source": [
    "### 4.1 Treinamento e avaliação da performance"
   ]
  },
  {
   "cell_type": "code",
   "execution_count": 7,
   "metadata": {},
   "outputs": [],
   "source": [
    "# separa os dados em Treinamento e Teste\n",
    "X_train, X_test, y_train, y_test = ms.train_test_split(X, y, test_size=0.2, random_state=random_state)"
   ]
  },
  {
   "cell_type": "code",
   "execution_count": 8,
   "metadata": {},
   "outputs": [
    {
     "name": "stdout",
     "output_type": "stream",
     "text": [
      "Acurácia sobre teste: 0.851875\n"
     ]
    }
   ],
   "source": [
    "# modelo treinado com os dados de treinamento\n",
    "model = tr.DecisionTreeClassifier(max_depth=38)\n",
    "model.fit(X_train, y_train)\n",
    "\n",
    "# classificação sobre os dados de teste\n",
    "yhat_test = model.predict(X_test)\n",
    "acc_test = mt.accuracy_score(y_test, yhat_test)\n",
    "\n",
    "print(f\"Acurácia sobre teste: {acc_test}\")"
   ]
  },
  {
   "cell_type": "markdown",
   "metadata": {},
   "source": [
    "### 4.2 Escolha dos parâmetros do algoritmo"
   ]
  },
  {
   "cell_type": "code",
   "execution_count": 9,
   "metadata": {},
   "outputs": [],
   "source": [
    "values = [i for i in range(1, 60)]\n",
    "\n",
    "test_score = list()\n",
    "\n",
    "for i in values:\n",
    "    model = tr.DecisionTreeClassifier(max_depth=i)\n",
    "    model.fit( X_train, y_train)\n",
    "\n",
    "    # classificação sobre o teste\n",
    "    yhat_test = model.predict(X_test)\n",
    "    acc_test = mt.accuracy_score(y_test, yhat_test)\n",
    "\n",
    "    test_score.append(acc_test)"
   ]
  },
  {
   "cell_type": "code",
   "execution_count": 10,
   "metadata": {},
   "outputs": [
    {
     "data": {
      "text/plain": [
       "[<matplotlib.lines.Line2D at 0x73711241fc80>]"
      ]
     },
     "execution_count": 10,
     "metadata": {},
     "output_type": "execute_result"
    },
    {
     "data": {
      "image/png": "[encoded data removed]",
      "text/plain": [
       "<Figure size 640x480 with 1 Axes>"
      ]
     },
     "metadata": {},
     "output_type": "display_data"
    }
   ],
   "source": [
    "plt.plot(values, test_score, \"-o\", label=\"Test\")"
   ]
  },
  {
   "cell_type": "markdown",
   "metadata": {},
   "source": [
    "### 4.3 Publicação do modelo em produção"
   ]
  },
  {
   "cell_type": "markdown",
   "metadata": {},
   "source": [
    "Desta vez, o modelo foi treinado com 80% dos dados, e 20% foram separados para teste. Portanto, a acurácia apresentada vai ser mais próxima do que é possível alcançar com os dados em produção.\n",
    "\n",
    "Além disso, foi feito um teste de variação para escolher o melhor parâmetro de profundidade que a árvore pode crescer, de modo que a acurácia seja a melhor possível.\n",
    "\n",
    "Porém, ao rodar novamente, os dados de treino e teste são concatenados. Os dados de treino e teste já foram utilizados para escolher o melhor parâmetro. É preciso reportar a performance do algoritmo com dados que ele nunca viu. Isto se chama 'vazamento'.\n",
    "\n",
    "Neste momento, o resultado da acurácia é mais próxima do real, mas ainda não está totalmente adequada. Porém, nem sempre há dados suficientes para isso, sendo assim, em determinados casos, este é o melhor cenário."
   ]
  },
  {
   "cell_type": "code",
   "execution_count": 11,
   "metadata": {},
   "outputs": [
    {
     "name": "stdout",
     "output_type": "stream",
     "text": [
      "Acurácia sobre produção: 0.88175\n"
     ]
    }
   ],
   "source": [
    "# modelo treinado\n",
    "model_last = tr.DecisionTreeClassifier(max_depth=6)\n",
    "\n",
    "model_last.fit(np.concatenate((X_train, X_test)),\n",
    "               np.concatenate((y_train, y_test)))\n",
    "\n",
    "# classificação sobre os dados de produção\n",
    "yhat_prod = model_last.predict(X_prod)\n",
    "acc_prod = mt.accuracy_score(y_prod, yhat_prod)\n",
    "\n",
    "print(f\"Acurácia sobre produção: {acc_prod}\")"
   ]
  },
  {
   "cell_type": "markdown",
   "metadata": {},
   "source": [
    "## 5.0 Exemplo 3 - Estratégia de Treino-Validação-Teste"
   ]
  },
  {
   "cell_type": "markdown",
   "metadata": {},
   "source": [
    "### 5.1 Separação dos dados"
   ]
  },
  {
   "cell_type": "code",
   "execution_count": 12,
   "metadata": {},
   "outputs": [],
   "source": [
    "# separação entre treino e validação\n",
    "X_train, X_val, y_train, y_val = ms.train_test_split(X_train, y_train, test_size=0.2)"
   ]
  },
  {
   "cell_type": "markdown",
   "metadata": {},
   "source": [
    "### 5.2 Escolha dos parâmetros do algoritmo"
   ]
  },
  {
   "cell_type": "code",
   "execution_count": 13,
   "metadata": {},
   "outputs": [],
   "source": [
    "values = [i for i in range(1, 60)]\n",
    "\n",
    "val_score = list()\n",
    "\n",
    "for i in values:\n",
    "    model = tr.DecisionTreeClassifier(max_depth=i)\n",
    "    model.fit( X_train, y_train)\n",
    "\n",
    "    # classificação sobre a validação\n",
    "    yhat_val = model.predict(X_val)\n",
    "    acc_val = mt.accuracy_score(y_val, yhat_val)\n",
    "\n",
    "    val_score.append(acc_val)"
   ]
  },
  {
   "cell_type": "code",
   "execution_count": 14,
   "metadata": {},
   "outputs": [
    {
     "data": {
      "text/plain": [
       "[<matplotlib.lines.Line2D at 0x7371124873e0>]"
      ]
     },
     "execution_count": 14,
     "metadata": {},
     "output_type": "execute_result"
    },
    {
     "data": {
      "image/png": "[encoded data removed]",
      "text/plain": [
       "<Figure size 640x480 with 1 Axes>"
      ]
     },
     "metadata": {},
     "output_type": "display_data"
    }
   ],
   "source": [
    "plt.plot(values, val_score, \"-o\", label=\"Validação\")"
   ]
  },
  {
   "cell_type": "markdown",
   "metadata": {},
   "source": [
    "### 5.3 Treinamento e avaliação da performance"
   ]
  },
  {
   "cell_type": "code",
   "execution_count": 15,
   "metadata": {},
   "outputs": [
    {
     "name": "stdout",
     "output_type": "stream",
     "text": [
      "Acurácia sobre validação: 0.8890625\n"
     ]
    }
   ],
   "source": [
    "# previsão sobre os dados de validação\n",
    "model = tr.DecisionTreeClassifier(max_depth=8)\n",
    "model.fit(X_train, y_train)\n",
    "\n",
    "yhat_val = model.predict(X_val)\n",
    "acc_val = mt.accuracy_score(y_val, yhat_val)\n",
    "\n",
    "print(f\"Acurácia sobre validação: {acc_val}\")"
   ]
  },
  {
   "cell_type": "markdown",
   "metadata": {},
   "source": [
    "### 5.4 Medição da capacidade de generalização"
   ]
  },
  {
   "cell_type": "markdown",
   "metadata": {},
   "source": [
    "Antes da publicação do modelo em produção, é necessário medir a capacidade de generalização do algoritmo para dados que ele nunca viu. Já utilizamos os dados de treinamento e de validação. Agora vamos usar o dataset de teste. Vamos treinar o modelo com os dados de treino e de validação, e classificar com os dados de teste, que simula os dados em produção.\n",
    "\n",
    "A acurácia obtida aqui é a que deve ser reportada para a equipe de negócio. Ela é a performance da capacidade de generalização do algoritmo para dados que ele nunca viu."
   ]
  },
  {
   "cell_type": "code",
   "execution_count": 16,
   "metadata": {},
   "outputs": [
    {
     "name": "stdout",
     "output_type": "stream",
     "text": [
      "Acurácia sobre teste: 0.8775\n"
     ]
    }
   ],
   "source": [
    "# modelo treinado sobre training + validation\n",
    "model_last = tr.DecisionTreeClassifier(max_depth=8)\n",
    "model_last.fit(np.concatenate((X_train, X_val)),\n",
    "               np.concatenate((y_train, y_val)))\n",
    "\n",
    "# classificação sobre os dados de teste\n",
    "yhat_test = model_last.predict(X_test)\n",
    "acc_test = mt.accuracy_score(y_test, yhat_test)\n",
    "\n",
    "print(f\"Acurácia sobre teste: {acc_test}\")"
   ]
  },
  {
   "cell_type": "markdown",
   "metadata": {},
   "source": [
    "### 5.4 Publicação do modelo em produção"
   ]
  },
  {
   "cell_type": "markdown",
   "metadata": {},
   "source": [
    "Ao aplicar a estratégia Treino-Validação-Teste, teremos uma performance em produção muito similar à performance em validação."
   ]
  },
  {
   "cell_type": "code",
   "execution_count": 17,
   "metadata": {},
   "outputs": [
    {
     "name": "stdout",
     "output_type": "stream",
     "text": [
      "Acurácia sobre produção: 0.8775\n"
     ]
    }
   ],
   "source": [
    "# classificação sobre os dados de produção\n",
    "yhat_prod = model_last.predict(X_prod)\n",
    "acc_prod = mt.accuracy_score(y_prod, yhat_prod)\n",
    "\n",
    "print(f\"Acurácia sobre produção: {acc_prod}\")"
   ]
  }
 ],
 "metadata": {
  "kernelspec": {
   "display_name": "venv",
   "language": "python",
   "name": "python3"
  },
  "language_info": {
   "codemirror_mode": {
    "name": "ipython",
    "version": 3
   },
   "file_extension": ".py",
   "mimetype": "text/x-python",
   "name": "python",
   "nbconvert_exporter": "python",
   "pygments_lexer": "ipython3",
   "version": "3.12.4"
  }
 },
 "nbformat": 4,
 "nbformat_minor": 2
}
